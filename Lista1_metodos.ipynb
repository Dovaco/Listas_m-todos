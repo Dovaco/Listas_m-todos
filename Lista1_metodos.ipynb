{
 "cells": [
  {
   "cell_type": "code",
   "execution_count": 1,
   "id": "ad27445f-9320-4e45-8ec8-177555d2937a",
   "metadata": {},
   "outputs": [
    {
     "name": "stdout",
     "output_type": "stream",
     "text": [
      "[[-21.56862745]\n",
      " [-24.54901961]\n",
      " [-24.90196078]\n",
      " [-21.7254902 ]\n",
      " [-25.33333333]\n",
      " [-25.05882353]] (6, 1)\n"
     ]
    }
   ],
   "source": [
    "#exercício 3\n",
    "import numpy as np\n",
    "from numpy.linalg import inv\n",
    "\n",
    "a = np.array([\n",
    "    [-4, 1, 0, 1, 0, 0],\n",
    "    [1, -4, 1, 1, 0, 0],\n",
    "    [0, 1, -4, 0, 0, 1],\n",
    "    [1, 0, 0, -4, 1, 0],\n",
    "    [0, 1, 0, 1, -4, 1],\n",
    "    [0, 0, 1, 0, 1, -4]\n",
    "])\n",
    "\n",
    "b = np.array([[40], [30], [50], [40], [30], [50]])\n",
    "\n",
    "a_inv = inv(a)\n",
    "\n",
    "x = a_inv @ b\n",
    "\n",
    "print(x, x.shape)\n"
   ]
  },
  {
   "cell_type": "code",
   "execution_count": 2,
   "id": "1b97b001-36fb-41e2-b0ee-200490ef8e48",
   "metadata": {},
   "outputs": [],
   "source": [
    "#exercício 4:\n",
    "import os \n",
    "import numpy as np \n",
    "from pathlib import Path\n",
    "#abrindo os dados para o exercício 4 e 5\n",
    "dados = Path(r'C:\\Users\\xexel\\Downloads\\Data_and_code\\Data and code\\chap01_SVD')\n",
    "\n",
    "mats = {}\n",
    "\n",
    "for mat in dados.glob('*.dat'):\n",
    "    try:\n",
    "        nome_mat = mat.stem\n",
    "        mats[nome_mat] = np.loadtxt(mat)\n",
    "    except:\n",
    "        pass"
   ]
  },
  {
   "cell_type": "code",
   "execution_count": 3,
   "id": "12386d50-5c3e-471f-94df-8ff6236b9866",
   "metadata": {},
   "outputs": [
    {
     "name": "stdout",
     "output_type": "stream",
     "text": [
      "[1. 2. 3. 2. 1. 2. 3.] (7,)\n"
     ]
    }
   ],
   "source": [
    "#a)\n",
    "\n",
    "# x = A(inv) * b\n",
    "a = mats['A']\n",
    "b = mats['b']\n",
    "\n",
    "a_inv = np.linalg.inv(a)\n",
    "\n",
    "x = a_inv @ b\n",
    "print(x, x.shape)\n"
   ]
  },
  {
   "cell_type": "code",
   "execution_count": 4,
   "id": "70a430c0-aa0a-4764-82ec-b4cfa034af36",
   "metadata": {},
   "outputs": [
    {
     "name": "stdout",
     "output_type": "stream",
     "text": [
      "O determiante de A = 549.0, e seu posto = 7\n"
     ]
    }
   ],
   "source": [
    "#b)\n",
    "\n",
    "rank = np.linalg.matrix_rank(a)\n",
    "a_det = np.linalg.det(a)\n",
    "\n",
    "print(f'O determiante de A = {np.round(a_det)}, e seu posto = {rank}')"
   ]
  },
  {
   "cell_type": "code",
   "execution_count": null,
   "id": "0508860c-eb17-4d2f-b858-5d3fc8d20115",
   "metadata": {},
   "outputs": [],
   "source": [
    "#c)\n",
    "\n",
    "U, S, Vt = np.linalg.svd(a)\n",
    "\n",
    "w = np.zeros_like(S)\n",
    "non_zero = S > 1e-12\n",
    "w[non_zero] = 1/S[non_zero]\n",
    "\n",
    "bgi = Vt.T @ np.diag(w) @ U.T\n",
    "x = bgi @ b\n",
    "print(x)"
   ]
  },
  {
   "cell_type": "code",
   "execution_count": 5,
   "id": "74455c96-6bec-48d4-a8ef-28d75dae91da",
   "metadata": {},
   "outputs": [
    {
     "name": "stdout",
     "output_type": "stream",
     "text": [
      "O determiante de A = 0.0, e seu posto = 6\n"
     ]
    }
   ],
   "source": [
    "# EXERCÍCIO 5\n",
    "\n",
    "#a) \n",
    "\n",
    "a1 = mats['A1']\n",
    "b1  =mats['b1']\n",
    "\n",
    "rank1 = np.linalg.matrix_rank(a1)\n",
    "a_det1 = np.linalg.det(a1)\n",
    "\n",
    "print(f'O determiante de A = {np.round(a_det1)}, e seu posto = {rank1}')"
   ]
  },
  {
   "cell_type": "code",
   "execution_count": 6,
   "id": "a3cf1dc5-e143-4953-a301-ecc792792216",
   "metadata": {},
   "outputs": [
    {
     "ename": "TypeError",
     "evalue": "'module' object is not callable",
     "output_type": "error",
     "traceback": [
      "\u001b[31m---------------------------------------------------------------------------\u001b[39m",
      "\u001b[31mTypeError\u001b[39m                                 Traceback (most recent call last)",
      "\u001b[36mCell\u001b[39m\u001b[36m \u001b[39m\u001b[32mIn[6]\u001b[39m\u001b[32m, line 4\u001b[39m\n\u001b[32m      1\u001b[39m \u001b[38;5;66;03m#b)\u001b[39;00m\n\u001b[32m      2\u001b[39m \n\u001b[32m      3\u001b[39m \u001b[38;5;66;03m# x = A(inv) * b\u001b[39;00m\n\u001b[32m----> \u001b[39m\u001b[32m4\u001b[39m a1_inv = \u001b[43mnp\u001b[49m\u001b[43m.\u001b[49m\u001b[43mlinalg\u001b[49m\u001b[43m(\u001b[49m\u001b[43ma1\u001b[49m\u001b[43m)\u001b[49m\n\u001b[32m      5\u001b[39m x1 = a1_inv @ b1\n\u001b[32m      7\u001b[39m \u001b[38;5;28mprint\u001b[39m(x1)\n",
      "\u001b[31mTypeError\u001b[39m: 'module' object is not callable"
     ]
    }
   ],
   "source": [
    "#b)\n",
    "\n",
    "# x = A(inv) * b\n",
    "a1_inv = np.linalg(a1)\n",
    "x1 = a1_inv @ b1\n",
    "\n",
    "print(x1)"
   ]
  },
  {
   "cell_type": "code",
   "execution_count": 7,
   "id": "ea91006e-fb01-4565-b4e7-bd17a1575681",
   "metadata": {},
   "outputs": [
    {
     "name": "stdout",
     "output_type": "stream",
     "text": [
      "[1.66294514 2.75765159 1.68989413 1.59749759 2.09701636 1.31337825\n",
      " 2.2186718 ]\n"
     ]
    }
   ],
   "source": [
    "#c) \n",
    "\n",
    "U, S, Vt = np.linalg.svd(a1)\n",
    "\n",
    "w = np.zeros_like(S)\n",
    "non_zero = S > 1e-12\n",
    "w[non_zero] = 1/S[non_zero]\n",
    "\n",
    "bgi = Vt.T @ np.diag(w) @ U.T\n",
    "x1 = bgi @ b1\n",
    "print(x1)"
   ]
  },
  {
   "cell_type": "code",
   "execution_count": null,
   "id": "4e167285-9988-46f5-a863-a8f77628c2a2",
   "metadata": {},
   "outputs": [],
   "source": []
  }
 ],
 "metadata": {
  "kernelspec": {
   "display_name": "Python 3 (ipykernel)",
   "language": "python",
   "name": "python3"
  },
  "language_info": {
   "codemirror_mode": {
    "name": "ipython",
    "version": 3
   },
   "file_extension": ".py",
   "mimetype": "text/x-python",
   "name": "python",
   "nbconvert_exporter": "python",
   "pygments_lexer": "ipython3",
   "version": "3.13.3"
  }
 },
 "nbformat": 4,
 "nbformat_minor": 5
}
